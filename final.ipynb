{
 "cells": [
  {
   "cell_type": "code",
   "execution_count": 1,
   "metadata": {},
   "outputs": [
    {
     "name": "stdout",
     "output_type": "stream",
     "text": [
      "Escriba su problema: una persona debe pagar al final de cada mes 200 pesos por 5 periodos a una tasa de interés del 8%\n"
     ]
    }
   ],
   "source": [
    "stop_words = [\"es\", \"la\", \"lo\",\"los\",\"de\",\"del\",\"mi\",\"por\",\"con\",\"un\",\"una\",\"el\",\"unas\",\"unos\",\"sobre\",\"todo\",\n",
    "              \"también\",\"otro\",\"algúna\",\"alguno\",\"alguna\",\"algunos\",\"algunas\",\"ser\",\"soy\",\"eres\",\"somos\",\"estoy\",\"esta\"\n",
    "              ,\"estamos\",\"estan\",\"como\",\"en\",\"calcula\"]\n",
    "problema= input(\"Escriba su problema: \")\n",
    "importante=[word for word in problema.split() if word not in stop_words]\n"
   ]
  },
  {
   "cell_type": "code",
   "execution_count": 2,
   "metadata": {},
   "outputs": [
    {
     "data": {
      "text/plain": [
       "['persona',\n",
       " 'debe',\n",
       " 'pagar',\n",
       " 'al',\n",
       " 'final',\n",
       " 'cada',\n",
       " 'mes',\n",
       " '200',\n",
       " 'pesos',\n",
       " '5',\n",
       " 'periodos',\n",
       " 'a',\n",
       " 'tasa',\n",
       " 'interés',\n",
       " '8%']"
      ]
     },
     "execution_count": 2,
     "metadata": {},
     "output_type": "execute_result"
    }
   ],
   "source": [
    "importante"
   ]
  },
  {
   "cell_type": "code",
   "execution_count": 44,
   "metadata": {},
   "outputs": [
    {
     "data": {
      "text/plain": [
       "0.07718929911255756"
      ]
     },
     "execution_count": 44,
     "metadata": {},
     "output_type": "execute_result"
    }
   ],
   "source": [
    "from matefin import rate_conver\n",
    "interes=rate_conver(0.08,13,\"nominal\")\n",
    "interes"
   ]
  },
  {
   "cell_type": "code",
   "execution_count": null,
   "metadata": {},
   "outputs": [],
   "source": [
    "     "
   ]
  },
  {
   "cell_type": "code",
   "execution_count": 45,
   "metadata": {},
   "outputs": [
    {
     "data": {
      "text/plain": [
       "25085.74415905707"
      ]
     },
     "execution_count": 45,
     "metadata": {},
     "output_type": "execute_result"
    }
   ],
   "source": [
    "def anualidad (pago,interes,periodo):\n",
    "    V=1/(1+interes)**periodo  \n",
    "    an=pago*(1-V)/interes\n",
    "    return an\n",
    "\n",
    "\n",
    "    "
   ]
  },
  {
   "cell_type": "code",
   "execution_count": 46,
   "metadata": {},
   "outputs": [
    {
     "data": {
      "text/plain": [
       "26157.388123022443"
      ]
     },
     "execution_count": 46,
     "metadata": {},
     "output_type": "execute_result"
    }
   ],
   "source": [
    "def anticipada (pago,interes,periodo):\n",
    "    V=1/(1+interes)**periodo  \n",
    "    ant=pago*((1+interes)*(1-V)/interes)\n",
    "    return ant\n",
    "anticipada(3025,interes,13)\n"
   ]
  },
  {
   "cell_type": "code",
   "execution_count": 47,
   "metadata": {},
   "outputs": [
    {
     "data": {
      "text/plain": [
       "19427.917684525135"
      ]
     },
     "execution_count": 47,
     "metadata": {},
     "output_type": "execute_result"
    }
   ],
   "source": [
    "def diferida (pago,interes,periodo,diferimiento):\n",
    "    V=1/(1+interes)**periodo  \n",
    "    V_d=1/(1+interes)**diferimiento\n",
    "    an_d=(pago*(1-V)/interes)*V_d\n",
    "    return an_d\n",
    "diferida(3025,interes,13,3)"
   ]
  },
  {
   "cell_type": "code",
   "execution_count": 48,
   "metadata": {},
   "outputs": [
    {
     "data": {
      "text/plain": [
       "3607.04794553925"
      ]
     },
     "execution_count": 48,
     "metadata": {},
     "output_type": "execute_result"
    }
   ],
   "source": [
    "def crecientes (pago,interes,periodo):\n",
    "    V=1/(1+interes)**periodo \n",
    "    IA=pago*(((1+interes)*(1-V)/interes)-(periodo*V))\n",
    "    return IA\n",
    "crecientes (3052,interes,6)"
   ]
  },
  {
   "cell_type": "code",
   "execution_count": 4,
   "metadata": {},
   "outputs": [],
   "source": [
    "class anualidades:\n",
    "    def __init__(pago,interes, periodo ,defirimiento):\n",
    "        self.pago=pago\n",
    "        self.interes=interes\n",
    "        self.periodo=periodo\n",
    "        self.diferimiento=diferimiento\n",
    "        \n",
    "    def anualidad (pago,interes,periodo):\n",
    "        V=1/(1+interes)**periodo  \n",
    "        an=pago*(1-V)/interes\n",
    "        return an\n",
    "    \n",
    "    def anticipada (pago,interes,periodo):\n",
    "        V=1/(1+interes)**periodo  \n",
    "        ant=pago*((1+interes)*(1-V)/interes)\n",
    "        return ant\n",
    "    \n",
    "    def diferida (pago,interes,periodo,diferimiento):\n",
    "        V=1/(1+interes)**periodo  \n",
    "        V_d=1/(1+interes)**diferimiento\n",
    "        an_d=(pago*(1-V)/interes)*V_d\n",
    "        return an_d\n",
    "    \n",
    "    def crecientes (pago,interes,periodo):\n",
    "        V=1/(1+interes)**periodo \n",
    "        IA=pago*((((1+interes)*(1-V)/interes)-(periodo*V)))(1/interes)\n",
    "        return IA\n"
   ]
  },
  {
   "cell_type": "code",
   "execution_count": null,
   "metadata": {},
   "outputs": [],
   "source": []
  },
  {
   "cell_type": "code",
   "execution_count": null,
   "metadata": {},
   "outputs": [],
   "source": []
  }
 ],
 "metadata": {
  "kernelspec": {
   "display_name": "Python 3",
   "language": "python",
   "name": "python3"
  },
  "language_info": {
   "codemirror_mode": {
    "name": "ipython",
    "version": 3
   },
   "file_extension": ".py",
   "mimetype": "text/x-python",
   "name": "python",
   "nbconvert_exporter": "python",
   "pygments_lexer": "ipython3",
   "version": "3.7.0"
  }
 },
 "nbformat": 4,
 "nbformat_minor": 2
}
