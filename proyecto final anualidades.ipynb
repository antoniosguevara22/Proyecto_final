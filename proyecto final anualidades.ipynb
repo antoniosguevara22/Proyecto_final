{
 "cells": [
  {
   "cell_type": "code",
   "execution_count": 281,
   "metadata": {},
   "outputs": [
    {
     "name": "stdout",
     "output_type": "stream",
     "text": [
      "Escriba su problema: una persona debe pagar al final de cada mes 200 pesos por 5 periodos a una tasa interes del 8%\n"
     ]
    }
   ],
   "source": [
    "stop_words = [\"es\", \"la\", \"lo\",\"los\",\"de\",\"del\",\"mi\",\"por\",\"con\",\"un\",\"una\",\"el\",\"unas\",\"unos\",\"sobre\",\"todo\",\n",
    "              \"también\",\"otro\",\"algúna\",\"alguno\",\"alguna\",\"algunos\",\"algunas\",\"ser\",\"soy\",\"eres\",\"somos\",\"estoy\",\"esta\"\n",
    "              ,\"estamos\",\"estan\",\"como\",\"en\",\"calcula\"]\n",
    "problema= input(\"Escriba su problema: \")\n",
    "importante=[word for word in problema.split() if word not in stop_words]"
   ]
  },
  {
   "cell_type": "code",
   "execution_count": null,
   "metadata": {},
   "outputs": [],
   "source": []
  },
  {
   "cell_type": "code",
   "execution_count": 289,
   "metadata": {},
   "outputs": [],
   "source": [
    "class anualidades:\n",
    "    def __init__(self,pago,interes,periodo):\n",
    "        self.pago= pago\n",
    "        self.interes=interes\n",
    "        self.periodo=periodo\n",
    "        \n",
    "    def vencida (self):\n",
    "        V=1/(1+interes)**periodo  \n",
    "        ven=pago*(1-V)/interes\n",
    "        return ven\n",
    "    \n",
    "    def anticipada (self):\n",
    "        V=1/(1+interes)**periodo  \n",
    "        ant=pago*((1+interes)*(1-V)/interes)\n",
    "        return ant\n",
    "    \n",
    "    def crecientes (self):\n",
    "        V=1/(1+interes)**periodo \n",
    "        IA=pago*((((1+interes)*(1-V)/interes)-(periodo*V)))(1/interes)\n",
    "        return IA\n",
    "\n"
   ]
  },
  {
   "cell_type": "code",
   "execution_count": 290,
   "metadata": {},
   "outputs": [],
   "source": [
    "import re"
   ]
  },
  {
   "cell_type": "code",
   "execution_count": 291,
   "metadata": {},
   "outputs": [],
   "source": [
    "separador = \" \"\n",
    "problem=separador.join(importante)\n",
    "valores=re.findall(r'\\d{1,3}',problem)\n",
    "datos=re.findall(r'[a-z]*',problem)\n",
    "\n",
    "\n",
    "    "
   ]
  },
  {
   "cell_type": "code",
   "execution_count": 292,
   "metadata": {},
   "outputs": [
    {
     "data": {
      "text/plain": [
       "{0: '200', 1: '5', 2: '8'}"
      ]
     },
     "execution_count": 292,
     "metadata": {},
     "output_type": "execute_result"
    }
   ],
   "source": [
    "d=datos.index(\"pesos\") , datos.index(\"periodos\"), datos.index(\"tasa\")\n",
    "\n",
    "valoresdict={}\n",
    "x=0\n",
    "for dato in d:\n",
    "    valoresdict[x] = valores[x]\n",
    "    x+=1\n",
    "valoresdict\n",
    "    "
   ]
  },
  {
   "cell_type": "code",
   "execution_count": 293,
   "metadata": {},
   "outputs": [],
   "source": [
    "pago=int(valoresdict[0])\n",
    "perd=int(valoresdict[1])\n",
    "interes_data=(int(valoresdict[2]))/100\n",
    "\n",
    "data=pago, interes_data, perd\n",
    "\n",
    "problema_fin=anualidades(data[0],data[1],data[2])\n",
    "\n"
   ]
  },
  {
   "cell_type": "code",
   "execution_count": 299,
   "metadata": {},
   "outputs": [
    {
     "name": "stdout",
     "output_type": "stream",
     "text": [
      "Su deuda seria de: 804.5576504958683\n"
     ]
    }
   ],
   "source": [
    "if \"final\" in datos:\n",
    "    print(f\"Su deuda seria de: {problema_fin.vencida()}\")\n",
    "elif \"inicio\"in datos :\n",
    "    print(f\"Su deuda seria de: {problema_fin.anticipada()}\")\n",
    "elif \"crecientes\" in datos:\n",
    "    print(f\"Su deuda seria de: {problema_fin.creciente()}\")\n",
    "else:\n",
    "    print(\"Vaya dato perturbador: Por favor ingrese datos validos\")\n"
   ]
  },
  {
   "cell_type": "code",
   "execution_count": null,
   "metadata": {},
   "outputs": [],
   "source": []
  },
  {
   "cell_type": "code",
   "execution_count": null,
   "metadata": {},
   "outputs": [],
   "source": []
  }
 ],
 "metadata": {
  "kernelspec": {
   "display_name": "Python 3",
   "language": "python",
   "name": "python3"
  },
  "language_info": {
   "codemirror_mode": {
    "name": "ipython",
    "version": 3
   },
   "file_extension": ".py",
   "mimetype": "text/x-python",
   "name": "python",
   "nbconvert_exporter": "python",
   "pygments_lexer": "ipython3",
   "version": "3.7.0"
  }
 },
 "nbformat": 4,
 "nbformat_minor": 2
}
